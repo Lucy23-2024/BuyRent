{
 "cells": [
  {
   "cell_type": "code",
   "execution_count": null,
   "metadata": {},
   "outputs": [],
   "source": [
    "pip install requests bs4 pandas"
   ]
  },
  {
   "cell_type": "code",
   "execution_count": null,
   "metadata": {},
   "outputs": [],
   "source": [
    "import requests #send http request\n",
    "import pandas as pd #data manipulator - send data to db\n",
    "from bs4 import BeautifulSoup #html parser"
   ]
  },
  {
   "cell_type": "markdown",
   "metadata": {},
   "source": [
    "if not installed write pip install pandas bs4 requests"
   ]
  },
  {
   "cell_type": "markdown",
   "metadata": {},
   "source": [
    "function - scrape_pages(start_page, end_page)\n",
    "\n",
    "base url = 'https://www.buyrentkenya.com/houses-for-sale'\n",
    "\n",
    "headers = {'User-Agent': 'Mozilla/5.0 (Windows NT 10.0; Win64; x64) AppleWebKit/537.36 (KHTML, like Gecko) Chrome/58.0.3029.110 Safari/537.3'}"
   ]
  },
  {
   "cell_type": "code",
   "execution_count": null,
   "metadata": {},
   "outputs": [],
   "source": [
    "def scrape_pages(start_page, end_page)\n",
    "    base_url = 'https://www.buyrentkenya.com/houses-for-sale'\n",
    "    headers = {\n",
    "        'User-Agent': 'Mozilla/5.0 (Windows NT 10.0; Win64; x64) AppleWebKit/537.36 (KHTML, like Gecko) Chrome/58.0.3029.110 Safari/537.3'\n",
    "        }\n",
    "\n",
    "        properties = []\n",
    "\n",
    "        for page_num in range(start_page, end_page + 1):\n",
    "            url =f'{base_url}?page={page_num}'\n",
    "            print(f\"Scrapping page {page_num} : {url}\")\n",
    "            response = requests.get(url, headers=headers)\n",
    "\n",
    "            if response.status_code !=200:\n",
    "                print(f\"Failed. Status code: {response.status_code}\")\n",
    "\n",
    "            soup = BeautifulSoup(response.content, 'html.parser')\n",
    "\n",
    "            listings = soup.find_all('div', class_ = 'listing-card')\n",
    "\n",
    "            for listing in listings:\n",
    "                #price\n",
    "\n",
    "                #location\n",
    "\n",
    "                #bedrooms, bathrooms, size\n",
    "\n",
    "                "
   ]
  }
 ],
 "metadata": {
  "kernelspec": {
   "display_name": "base",
   "language": "python",
   "name": "python3"
  },
  "language_info": {
   "codemirror_mode": {
    "name": "ipython",
    "version": 3
   },
   "file_extension": ".py",
   "mimetype": "text/x-python",
   "name": "python",
   "nbconvert_exporter": "python",
   "pygments_lexer": "ipython3",
   "version": "3.12.7"
  }
 },
 "nbformat": 4,
 "nbformat_minor": 2
}
